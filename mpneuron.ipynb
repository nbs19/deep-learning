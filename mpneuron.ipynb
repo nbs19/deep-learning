{
  "nbformat": 4,
  "nbformat_minor": 0,
  "metadata": {
    "colab": {
      "name": "mpneuron.ipynb",
      "provenance": [],
      "authorship_tag": "ABX9TyNiVhNZB8nWAfGvguj4tyw2",
      "include_colab_link": true
    },
    "kernelspec": {
      "name": "python3",
      "display_name": "Python 3"
    },
    "language_info": {
      "name": "python"
    }
  },
  "cells": [
    {
      "cell_type": "markdown",
      "metadata": {
        "id": "view-in-github",
        "colab_type": "text"
      },
      "source": [
        "<a href=\"https://colab.research.google.com/github/nbs19/deep-learning/blob/main/mpneuron.ipynb\" target=\"_parent\"><img src=\"https://colab.research.google.com/assets/colab-badge.svg\" alt=\"Open In Colab\"/></a>"
      ]
    },
    {
      "cell_type": "markdown",
      "metadata": {
        "id": "-NIEN-J0BGzV"
      },
      "source": [
        "# Loading Data"
      ]
    },
    {
      "cell_type": "code",
      "metadata": {
        "id": "IJvYPL5lIINu"
      },
      "source": [
        "import sklearn.datasets\n",
        "import numpy as np\n"
      ],
      "execution_count": 123,
      "outputs": []
    },
    {
      "cell_type": "code",
      "metadata": {
        "id": "oRPeBnvYTnIo"
      },
      "source": [
        "breast_cancer=sklearn.datasets.load_breast_cancer()\n"
      ],
      "execution_count": 124,
      "outputs": []
    },
    {
      "cell_type": "code",
      "metadata": {
        "colab": {
          "base_uri": "https://localhost:8080/"
        },
        "id": "biwyp2vgT1Pz",
        "outputId": "ecbb96c2-7ed5-413f-abd2-c46884eca1d9"
      },
      "source": [
        "x=breast_cancer.data\n",
        "y=breast_cancer.target\n",
        "print(x)\n",
        "print(y)"
      ],
      "execution_count": 125,
      "outputs": [
        {
          "output_type": "stream",
          "text": [
            "[[1.799e+01 1.038e+01 1.228e+02 ... 2.654e-01 4.601e-01 1.189e-01]\n",
            " [2.057e+01 1.777e+01 1.329e+02 ... 1.860e-01 2.750e-01 8.902e-02]\n",
            " [1.969e+01 2.125e+01 1.300e+02 ... 2.430e-01 3.613e-01 8.758e-02]\n",
            " ...\n",
            " [1.660e+01 2.808e+01 1.083e+02 ... 1.418e-01 2.218e-01 7.820e-02]\n",
            " [2.060e+01 2.933e+01 1.401e+02 ... 2.650e-01 4.087e-01 1.240e-01]\n",
            " [7.760e+00 2.454e+01 4.792e+01 ... 0.000e+00 2.871e-01 7.039e-02]]\n",
            "[0 0 0 0 0 0 0 0 0 0 0 0 0 0 0 0 0 0 0 1 1 1 0 0 0 0 0 0 0 0 0 0 0 0 0 0 0\n",
            " 1 0 0 0 0 0 0 0 0 1 0 1 1 1 1 1 0 0 1 0 0 1 1 1 1 0 1 0 0 1 1 1 1 0 1 0 0\n",
            " 1 0 1 0 0 1 1 1 0 0 1 0 0 0 1 1 1 0 1 1 0 0 1 1 1 0 0 1 1 1 1 0 1 1 0 1 1\n",
            " 1 1 1 1 1 1 0 0 0 1 0 0 1 1 1 0 0 1 0 1 0 0 1 0 0 1 1 0 1 1 0 1 1 1 1 0 1\n",
            " 1 1 1 1 1 1 1 1 0 1 1 1 1 0 0 1 0 1 1 0 0 1 1 0 0 1 1 1 1 0 1 1 0 0 0 1 0\n",
            " 1 0 1 1 1 0 1 1 0 0 1 0 0 0 0 1 0 0 0 1 0 1 0 1 1 0 1 0 0 0 0 1 1 0 0 1 1\n",
            " 1 0 1 1 1 1 1 0 0 1 1 0 1 1 0 0 1 0 1 1 1 1 0 1 1 1 1 1 0 1 0 0 0 0 0 0 0\n",
            " 0 0 0 0 0 0 0 1 1 1 1 1 1 0 1 0 1 1 0 1 1 0 1 0 0 1 1 1 1 1 1 1 1 1 1 1 1\n",
            " 1 0 1 1 0 1 0 1 1 1 1 1 1 1 1 1 1 1 1 1 1 0 1 1 1 0 1 0 1 1 1 1 0 0 0 1 1\n",
            " 1 1 0 1 0 1 0 1 1 1 0 1 1 1 1 1 1 1 0 0 0 1 1 1 1 1 1 1 1 1 1 1 0 0 1 0 0\n",
            " 0 1 0 0 1 1 1 1 1 0 1 1 1 1 1 0 1 1 1 0 1 1 0 0 1 1 1 1 1 1 0 1 1 1 1 1 1\n",
            " 1 0 1 1 1 1 1 0 1 1 0 1 1 1 1 1 1 1 1 1 1 1 1 0 1 0 0 1 0 1 1 1 1 1 0 1 1\n",
            " 0 1 0 1 1 0 1 0 1 1 1 1 1 1 1 1 0 0 1 1 1 1 1 1 0 1 1 1 1 1 1 1 1 1 1 0 1\n",
            " 1 1 1 1 1 1 0 1 0 1 1 0 1 1 1 1 1 0 0 1 0 1 0 1 1 1 1 1 0 1 1 0 1 0 1 0 0\n",
            " 1 1 1 0 1 1 1 1 1 1 1 1 1 1 1 0 1 0 0 1 1 1 1 1 1 1 1 1 1 1 1 1 1 1 1 1 1\n",
            " 1 1 1 1 1 1 1 0 0 0 0 0 0 1]\n"
          ],
          "name": "stdout"
        }
      ]
    },
    {
      "cell_type": "code",
      "metadata": {
        "colab": {
          "base_uri": "https://localhost:8080/"
        },
        "id": "Ng9AQaCbUduK",
        "outputId": "6e393b14-a5c7-44f8-dc33-cafa86998978"
      },
      "source": [
        "print(x.shape,y.shape)"
      ],
      "execution_count": 126,
      "outputs": [
        {
          "output_type": "stream",
          "text": [
            "(569, 30) (569,)\n"
          ],
          "name": "stdout"
        }
      ]
    },
    {
      "cell_type": "code",
      "metadata": {
        "id": "MRCf3vJfUllh"
      },
      "source": [
        "import pandas as pd"
      ],
      "execution_count": 127,
      "outputs": []
    },
    {
      "cell_type": "code",
      "metadata": {
        "colab": {
          "base_uri": "https://localhost:8080/"
        },
        "id": "UgDf_b-iUxbJ",
        "outputId": "c3777027-ba3c-4615-b776-3c479b3705cd"
      },
      "source": [
        "data= pd.DataFrame(breast_cancer.data,columns=breast_cancer.feature_names)\n",
        "print(data)"
      ],
      "execution_count": 128,
      "outputs": [
        {
          "output_type": "stream",
          "text": [
            "     mean radius  mean texture  ...  worst symmetry  worst fractal dimension\n",
            "0          17.99         10.38  ...          0.4601                  0.11890\n",
            "1          20.57         17.77  ...          0.2750                  0.08902\n",
            "2          19.69         21.25  ...          0.3613                  0.08758\n",
            "3          11.42         20.38  ...          0.6638                  0.17300\n",
            "4          20.29         14.34  ...          0.2364                  0.07678\n",
            "..           ...           ...  ...             ...                      ...\n",
            "564        21.56         22.39  ...          0.2060                  0.07115\n",
            "565        20.13         28.25  ...          0.2572                  0.06637\n",
            "566        16.60         28.08  ...          0.2218                  0.07820\n",
            "567        20.60         29.33  ...          0.4087                  0.12400\n",
            "568         7.76         24.54  ...          0.2871                  0.07039\n",
            "\n",
            "[569 rows x 30 columns]\n"
          ],
          "name": "stdout"
        }
      ]
    },
    {
      "cell_type": "code",
      "metadata": {
        "colab": {
          "base_uri": "https://localhost:8080/",
          "height": 248
        },
        "id": "VSJVDgJkecOv",
        "outputId": "c813ef7a-8b17-4dec-d85e-496a980869bb"
      },
      "source": [
        "data['class']=breast_cancer.target\n",
        "data.head()"
      ],
      "execution_count": 129,
      "outputs": [
        {
          "output_type": "execute_result",
          "data": {
            "text/html": [
              "<div>\n",
              "<style scoped>\n",
              "    .dataframe tbody tr th:only-of-type {\n",
              "        vertical-align: middle;\n",
              "    }\n",
              "\n",
              "    .dataframe tbody tr th {\n",
              "        vertical-align: top;\n",
              "    }\n",
              "\n",
              "    .dataframe thead th {\n",
              "        text-align: right;\n",
              "    }\n",
              "</style>\n",
              "<table border=\"1\" class=\"dataframe\">\n",
              "  <thead>\n",
              "    <tr style=\"text-align: right;\">\n",
              "      <th></th>\n",
              "      <th>mean radius</th>\n",
              "      <th>mean texture</th>\n",
              "      <th>mean perimeter</th>\n",
              "      <th>mean area</th>\n",
              "      <th>mean smoothness</th>\n",
              "      <th>mean compactness</th>\n",
              "      <th>mean concavity</th>\n",
              "      <th>mean concave points</th>\n",
              "      <th>mean symmetry</th>\n",
              "      <th>mean fractal dimension</th>\n",
              "      <th>radius error</th>\n",
              "      <th>texture error</th>\n",
              "      <th>perimeter error</th>\n",
              "      <th>area error</th>\n",
              "      <th>smoothness error</th>\n",
              "      <th>compactness error</th>\n",
              "      <th>concavity error</th>\n",
              "      <th>concave points error</th>\n",
              "      <th>symmetry error</th>\n",
              "      <th>fractal dimension error</th>\n",
              "      <th>worst radius</th>\n",
              "      <th>worst texture</th>\n",
              "      <th>worst perimeter</th>\n",
              "      <th>worst area</th>\n",
              "      <th>worst smoothness</th>\n",
              "      <th>worst compactness</th>\n",
              "      <th>worst concavity</th>\n",
              "      <th>worst concave points</th>\n",
              "      <th>worst symmetry</th>\n",
              "      <th>worst fractal dimension</th>\n",
              "      <th>class</th>\n",
              "    </tr>\n",
              "  </thead>\n",
              "  <tbody>\n",
              "    <tr>\n",
              "      <th>0</th>\n",
              "      <td>17.99</td>\n",
              "      <td>10.38</td>\n",
              "      <td>122.80</td>\n",
              "      <td>1001.0</td>\n",
              "      <td>0.11840</td>\n",
              "      <td>0.27760</td>\n",
              "      <td>0.3001</td>\n",
              "      <td>0.14710</td>\n",
              "      <td>0.2419</td>\n",
              "      <td>0.07871</td>\n",
              "      <td>1.0950</td>\n",
              "      <td>0.9053</td>\n",
              "      <td>8.589</td>\n",
              "      <td>153.40</td>\n",
              "      <td>0.006399</td>\n",
              "      <td>0.04904</td>\n",
              "      <td>0.05373</td>\n",
              "      <td>0.01587</td>\n",
              "      <td>0.03003</td>\n",
              "      <td>0.006193</td>\n",
              "      <td>25.38</td>\n",
              "      <td>17.33</td>\n",
              "      <td>184.60</td>\n",
              "      <td>2019.0</td>\n",
              "      <td>0.1622</td>\n",
              "      <td>0.6656</td>\n",
              "      <td>0.7119</td>\n",
              "      <td>0.2654</td>\n",
              "      <td>0.4601</td>\n",
              "      <td>0.11890</td>\n",
              "      <td>0</td>\n",
              "    </tr>\n",
              "    <tr>\n",
              "      <th>1</th>\n",
              "      <td>20.57</td>\n",
              "      <td>17.77</td>\n",
              "      <td>132.90</td>\n",
              "      <td>1326.0</td>\n",
              "      <td>0.08474</td>\n",
              "      <td>0.07864</td>\n",
              "      <td>0.0869</td>\n",
              "      <td>0.07017</td>\n",
              "      <td>0.1812</td>\n",
              "      <td>0.05667</td>\n",
              "      <td>0.5435</td>\n",
              "      <td>0.7339</td>\n",
              "      <td>3.398</td>\n",
              "      <td>74.08</td>\n",
              "      <td>0.005225</td>\n",
              "      <td>0.01308</td>\n",
              "      <td>0.01860</td>\n",
              "      <td>0.01340</td>\n",
              "      <td>0.01389</td>\n",
              "      <td>0.003532</td>\n",
              "      <td>24.99</td>\n",
              "      <td>23.41</td>\n",
              "      <td>158.80</td>\n",
              "      <td>1956.0</td>\n",
              "      <td>0.1238</td>\n",
              "      <td>0.1866</td>\n",
              "      <td>0.2416</td>\n",
              "      <td>0.1860</td>\n",
              "      <td>0.2750</td>\n",
              "      <td>0.08902</td>\n",
              "      <td>0</td>\n",
              "    </tr>\n",
              "    <tr>\n",
              "      <th>2</th>\n",
              "      <td>19.69</td>\n",
              "      <td>21.25</td>\n",
              "      <td>130.00</td>\n",
              "      <td>1203.0</td>\n",
              "      <td>0.10960</td>\n",
              "      <td>0.15990</td>\n",
              "      <td>0.1974</td>\n",
              "      <td>0.12790</td>\n",
              "      <td>0.2069</td>\n",
              "      <td>0.05999</td>\n",
              "      <td>0.7456</td>\n",
              "      <td>0.7869</td>\n",
              "      <td>4.585</td>\n",
              "      <td>94.03</td>\n",
              "      <td>0.006150</td>\n",
              "      <td>0.04006</td>\n",
              "      <td>0.03832</td>\n",
              "      <td>0.02058</td>\n",
              "      <td>0.02250</td>\n",
              "      <td>0.004571</td>\n",
              "      <td>23.57</td>\n",
              "      <td>25.53</td>\n",
              "      <td>152.50</td>\n",
              "      <td>1709.0</td>\n",
              "      <td>0.1444</td>\n",
              "      <td>0.4245</td>\n",
              "      <td>0.4504</td>\n",
              "      <td>0.2430</td>\n",
              "      <td>0.3613</td>\n",
              "      <td>0.08758</td>\n",
              "      <td>0</td>\n",
              "    </tr>\n",
              "    <tr>\n",
              "      <th>3</th>\n",
              "      <td>11.42</td>\n",
              "      <td>20.38</td>\n",
              "      <td>77.58</td>\n",
              "      <td>386.1</td>\n",
              "      <td>0.14250</td>\n",
              "      <td>0.28390</td>\n",
              "      <td>0.2414</td>\n",
              "      <td>0.10520</td>\n",
              "      <td>0.2597</td>\n",
              "      <td>0.09744</td>\n",
              "      <td>0.4956</td>\n",
              "      <td>1.1560</td>\n",
              "      <td>3.445</td>\n",
              "      <td>27.23</td>\n",
              "      <td>0.009110</td>\n",
              "      <td>0.07458</td>\n",
              "      <td>0.05661</td>\n",
              "      <td>0.01867</td>\n",
              "      <td>0.05963</td>\n",
              "      <td>0.009208</td>\n",
              "      <td>14.91</td>\n",
              "      <td>26.50</td>\n",
              "      <td>98.87</td>\n",
              "      <td>567.7</td>\n",
              "      <td>0.2098</td>\n",
              "      <td>0.8663</td>\n",
              "      <td>0.6869</td>\n",
              "      <td>0.2575</td>\n",
              "      <td>0.6638</td>\n",
              "      <td>0.17300</td>\n",
              "      <td>0</td>\n",
              "    </tr>\n",
              "    <tr>\n",
              "      <th>4</th>\n",
              "      <td>20.29</td>\n",
              "      <td>14.34</td>\n",
              "      <td>135.10</td>\n",
              "      <td>1297.0</td>\n",
              "      <td>0.10030</td>\n",
              "      <td>0.13280</td>\n",
              "      <td>0.1980</td>\n",
              "      <td>0.10430</td>\n",
              "      <td>0.1809</td>\n",
              "      <td>0.05883</td>\n",
              "      <td>0.7572</td>\n",
              "      <td>0.7813</td>\n",
              "      <td>5.438</td>\n",
              "      <td>94.44</td>\n",
              "      <td>0.011490</td>\n",
              "      <td>0.02461</td>\n",
              "      <td>0.05688</td>\n",
              "      <td>0.01885</td>\n",
              "      <td>0.01756</td>\n",
              "      <td>0.005115</td>\n",
              "      <td>22.54</td>\n",
              "      <td>16.67</td>\n",
              "      <td>152.20</td>\n",
              "      <td>1575.0</td>\n",
              "      <td>0.1374</td>\n",
              "      <td>0.2050</td>\n",
              "      <td>0.4000</td>\n",
              "      <td>0.1625</td>\n",
              "      <td>0.2364</td>\n",
              "      <td>0.07678</td>\n",
              "      <td>0</td>\n",
              "    </tr>\n",
              "  </tbody>\n",
              "</table>\n",
              "</div>"
            ],
            "text/plain": [
              "   mean radius  mean texture  ...  worst fractal dimension  class\n",
              "0        17.99         10.38  ...                  0.11890      0\n",
              "1        20.57         17.77  ...                  0.08902      0\n",
              "2        19.69         21.25  ...                  0.08758      0\n",
              "3        11.42         20.38  ...                  0.17300      0\n",
              "4        20.29         14.34  ...                  0.07678      0\n",
              "\n",
              "[5 rows x 31 columns]"
            ]
          },
          "metadata": {
            "tags": []
          },
          "execution_count": 129
        }
      ]
    },
    {
      "cell_type": "code",
      "metadata": {
        "colab": {
          "base_uri": "https://localhost:8080/"
        },
        "id": "_Z62QaCQfEOR",
        "outputId": "8d318059-b98d-4fcf-e283-067c34035af2"
      },
      "source": [
        "print(data['class'].value_counts())"
      ],
      "execution_count": 130,
      "outputs": [
        {
          "output_type": "stream",
          "text": [
            "1    357\n",
            "0    212\n",
            "Name: class, dtype: int64\n"
          ],
          "name": "stdout"
        }
      ]
    },
    {
      "cell_type": "code",
      "metadata": {
        "colab": {
          "base_uri": "https://localhost:8080/"
        },
        "id": "PKYRY1vrfeau",
        "outputId": "296fa64e-1984-482f-98ce-89aa66a3412a"
      },
      "source": [
        "print(breast_cancer.target_names)"
      ],
      "execution_count": 131,
      "outputs": [
        {
          "output_type": "stream",
          "text": [
            "['malignant' 'benign']\n"
          ],
          "name": "stdout"
        }
      ]
    },
    {
      "cell_type": "markdown",
      "metadata": {
        "id": "4J52Qha8A8OD"
      },
      "source": [
        "#train_test spliting of data"
      ]
    },
    {
      "cell_type": "code",
      "metadata": {
        "id": "p78N9Wg0mSQ-"
      },
      "source": [
        "from sklearn.model_selection import train_test_split\n"
      ],
      "execution_count": 132,
      "outputs": []
    },
    {
      "cell_type": "code",
      "metadata": {
        "id": "2dACeS9Enicn"
      },
      "source": [
        "x=data.drop('class',axis=1)\n",
        "y=data['class']"
      ],
      "execution_count": 133,
      "outputs": []
    },
    {
      "cell_type": "code",
      "metadata": {
        "colab": {
          "base_uri": "https://localhost:8080/"
        },
        "id": "JnjV5Twpn_SF",
        "outputId": "142d915e-8072-4002-ad08-c1de4af814d1"
      },
      "source": [
        "type(x)"
      ],
      "execution_count": 134,
      "outputs": [
        {
          "output_type": "execute_result",
          "data": {
            "text/plain": [
              "pandas.core.frame.DataFrame"
            ]
          },
          "metadata": {
            "tags": []
          },
          "execution_count": 134
        }
      ]
    },
    {
      "cell_type": "code",
      "metadata": {
        "colab": {
          "base_uri": "https://localhost:8080/"
        },
        "id": "VKV7Qw_0oUfs",
        "outputId": "8c14c5c9-6072-4d91-ab59-2e685a097718"
      },
      "source": [
        "x_train,x_test,y_train,y_test=train_test_split(x,y)\n",
        "print(x.shape,x_train.shape,x_test.shape)"
      ],
      "execution_count": 135,
      "outputs": [
        {
          "output_type": "stream",
          "text": [
            "(569, 30) (426, 30) (143, 30)\n"
          ],
          "name": "stdout"
        }
      ]
    },
    {
      "cell_type": "code",
      "metadata": {
        "colab": {
          "base_uri": "https://localhost:8080/"
        },
        "id": "lyLVbonkpPgd",
        "outputId": "f4d7171a-42d1-456f-b507-43a09e37969b"
      },
      "source": [
        "x_train,x_test,y_train,y_test=train_test_split(x,y,test_size=0.1)\n",
        "print(x.shape,x_train.shape,x_test.shape)"
      ],
      "execution_count": 136,
      "outputs": [
        {
          "output_type": "stream",
          "text": [
            "(569, 30) (512, 30) (57, 30)\n"
          ],
          "name": "stdout"
        }
      ]
    },
    {
      "cell_type": "markdown",
      "metadata": {
        "id": "qH4ET0yk3c90"
      },
      "source": [
        "we calculate mean because to see that test data and train data are equally weighted"
      ]
    },
    {
      "cell_type": "code",
      "metadata": {
        "id": "2ZUKk21JprJF",
        "colab": {
          "base_uri": "https://localhost:8080/"
        },
        "outputId": "da96e3ee-3b74-481f-ac6e-6257f7212be7"
      },
      "source": [
        "print(y.mean(),y_train.mean(),y_test.mean())"
      ],
      "execution_count": 137,
      "outputs": [
        {
          "output_type": "stream",
          "text": [
            "0.6274165202108963 0.623046875 0.6666666666666666\n"
          ],
          "name": "stdout"
        }
      ]
    },
    {
      "cell_type": "markdown",
      "metadata": {
        "id": "C1Vr4t983v-u"
      },
      "source": [
        "to solve this we use command \"stratify\" this will equally divide the mean between train set and test set"
      ]
    },
    {
      "cell_type": "code",
      "metadata": {
        "id": "uPR7t0fB3u4D"
      },
      "source": [
        "x_train,x_test,y_train,y_test=train_test_split(x,y,test_size=0.1,stratify=y)"
      ],
      "execution_count": 138,
      "outputs": []
    },
    {
      "cell_type": "code",
      "metadata": {
        "colab": {
          "base_uri": "https://localhost:8080/"
        },
        "id": "R6umez6i4wuc",
        "outputId": "b31f65bc-17b9-4717-f548-f0833f3d9a76"
      },
      "source": [
        "print(x.mean(),x_train.mean(),x_test.mean())"
      ],
      "execution_count": 139,
      "outputs": [
        {
          "output_type": "stream",
          "text": [
            "mean radius                 14.127292\n",
            "mean texture                19.289649\n",
            "mean perimeter              91.969033\n",
            "mean area                  654.889104\n",
            "mean smoothness              0.096360\n",
            "mean compactness             0.104341\n",
            "mean concavity               0.088799\n",
            "mean concave points          0.048919\n",
            "mean symmetry                0.181162\n",
            "mean fractal dimension       0.062798\n",
            "radius error                 0.405172\n",
            "texture error                1.216853\n",
            "perimeter error              2.866059\n",
            "area error                  40.337079\n",
            "smoothness error             0.007041\n",
            "compactness error            0.025478\n",
            "concavity error              0.031894\n",
            "concave points error         0.011796\n",
            "symmetry error               0.020542\n",
            "fractal dimension error      0.003795\n",
            "worst radius                16.269190\n",
            "worst texture               25.677223\n",
            "worst perimeter            107.261213\n",
            "worst area                 880.583128\n",
            "worst smoothness             0.132369\n",
            "worst compactness            0.254265\n",
            "worst concavity              0.272188\n",
            "worst concave points         0.114606\n",
            "worst symmetry               0.290076\n",
            "worst fractal dimension      0.083946\n",
            "dtype: float64 mean radius                 14.149949\n",
            "mean texture                19.212012\n",
            "mean perimeter              92.153262\n",
            "mean area                  657.296680\n",
            "mean smoothness              0.096330\n",
            "mean compactness             0.105001\n",
            "mean concavity               0.090438\n",
            "mean concave points          0.049436\n",
            "mean symmetry                0.181171\n",
            "mean fractal dimension       0.062815\n",
            "radius error                 0.405168\n",
            "texture error                1.202364\n",
            "perimeter error              2.869308\n",
            "area error                  40.593039\n",
            "smoothness error             0.006956\n",
            "compactness error            0.025792\n",
            "concavity error              0.032278\n",
            "concave points error         0.011814\n",
            "symmetry error               0.020534\n",
            "fractal dimension error      0.003822\n",
            "worst radius                16.307137\n",
            "worst texture               25.578379\n",
            "worst perimeter            107.578398\n",
            "worst area                 885.199805\n",
            "worst smoothness             0.132292\n",
            "worst compactness            0.258051\n",
            "worst concavity              0.277828\n",
            "worst concave points         0.115819\n",
            "worst symmetry               0.291252\n",
            "worst fractal dimension      0.084280\n",
            "dtype: float64 mean radius                 13.923772\n",
            "mean texture                19.987018\n",
            "mean perimeter              90.314211\n",
            "mean area                  633.263158\n",
            "mean smoothness              0.096631\n",
            "mean compactness             0.098410\n",
            "mean concavity               0.074080\n",
            "mean concave points          0.044280\n",
            "mean symmetry                0.181077\n",
            "mean fractal dimension       0.062645\n",
            "radius error                 0.405212\n",
            "texture error                1.347005\n",
            "perimeter error              2.836875\n",
            "area error                  38.037930\n",
            "smoothness error             0.007807\n",
            "compactness error            0.022656\n",
            "concavity error              0.028442\n",
            "concave points error         0.011637\n",
            "symmetry error               0.020617\n",
            "fractal dimension error      0.003552\n",
            "worst radius                15.928333\n",
            "worst texture               26.565088\n",
            "worst perimeter            104.412105\n",
            "worst area                 839.114035\n",
            "worst smoothness             0.133061\n",
            "worst compactness            0.220262\n",
            "worst concavity              0.221535\n",
            "worst concave points         0.103708\n",
            "worst symmetry               0.279505\n",
            "worst fractal dimension      0.080947\n",
            "dtype: float64\n"
          ],
          "name": "stdout"
        }
      ]
    },
    {
      "cell_type": "markdown",
      "metadata": {
        "id": "4EKRu_mS60ra"
      },
      "source": [
        "paina chusava x_train & x_test (y also) data mean is varying (ante test data different ga split avutundi ) every time you ran the cmd train_test_split() ,so to ensure that when ever you run code after sometime the split maintian same ,we use command \"random_state=1\" (equated to any constant)"
      ]
    },
    {
      "cell_type": "code",
      "metadata": {
        "id": "kgyD8Wq160Rn"
      },
      "source": [
        "x_train,x_test,y_train,y_test=train_test_split(x,y,test_size=0.1,stratify=y,random_state=1)"
      ],
      "execution_count": 140,
      "outputs": []
    },
    {
      "cell_type": "markdown",
      "metadata": {
        "id": "Zux_BQBHAZVe"
      },
      "source": [
        "startify is used for only binary classification (only y)"
      ]
    },
    {
      "cell_type": "markdown",
      "metadata": {
        "id": "0hffRP1vAtu1"
      },
      "source": [
        "# binarisation of inputs"
      ]
    },
    {
      "cell_type": "code",
      "metadata": {
        "id": "sS1QXwSLAtDu"
      },
      "source": [
        "import matplotlib.pyplot as plt"
      ],
      "execution_count": 141,
      "outputs": []
    },
    {
      "cell_type": "code",
      "metadata": {
        "colab": {
          "base_uri": "https://localhost:8080/",
          "height": 374
        },
        "id": "LNIQjL94_cSp",
        "outputId": "02089620-15af-4140-cb57-79a2f78b050f"
      },
      "source": [
        "plt.plot(x_train.T,'.')\n",
        "plt.xticks(rotation='vertical')\n",
        "plt.show()"
      ],
      "execution_count": 142,
      "outputs": [
        {
          "output_type": "display_data",
          "data": {
            "image/png": "[encoded data removed]",
            "text/plain": [
              "<Figure size 432x288 with 1 Axes>"
            ]
          },
          "metadata": {
            "tags": [],
            "needs_background": "light"
          }
        }
      ]
    },
    {
      "cell_type": "markdown",
      "metadata": {
        "id": "iPenWI-fYJd0"
      },
      "source": [
        " this syntax is only used for data frames not lists x_bianrised_3=x_train['mean area'].map(lambda x:1 if x>1000 else 0) "
      ]
    },
    {
      "cell_type": "code",
      "metadata": {
        "colab": {
          "base_uri": "https://localhost:8080/"
        },
        "id": "QNQCtHGUMk4U",
        "outputId": "0b1f1dc9-0d2c-43ec-abdd-2dca03ede6be"
      },
      "source": [
        "x_binarised_3=pd.DataFrame(map(lambda x:1 if x >1000 else 0,x_train['mean area'] ))  #x_bianrised_3=x_train['mean area'].map(lambda x:1 if x>1000 else 0)\n",
        "print(x_binarised_3)"
      ],
      "execution_count": 143,
      "outputs": [
        {
          "output_type": "stream",
          "text": [
            "     0\n",
            "0    0\n",
            "1    0\n",
            "2    0\n",
            "3    0\n",
            "4    0\n",
            "..  ..\n",
            "507  0\n",
            "508  0\n",
            "509  0\n",
            "510  0\n",
            "511  1\n",
            "\n",
            "[512 rows x 1 columns]\n"
          ],
          "name": "stdout"
        }
      ]
    },
    {
      "cell_type": "code",
      "metadata": {
        "colab": {
          "base_uri": "https://localhost:8080/",
          "height": 283
        },
        "id": "GFfVMmt-Mlwg",
        "outputId": "6723844c-6f56-4b03-811d-948883a6991a"
      },
      "source": [
        "plt.plot(x_binarised_3,'*')"
      ],
      "execution_count": 144,
      "outputs": [
        {
          "output_type": "execute_result",
          "data": {
            "text/plain": [
              "[<matplotlib.lines.Line2D at 0x7ff95afb3910>]"
            ]
          },
          "metadata": {
            "tags": []
          },
          "execution_count": 144
        },
        {
          "output_type": "display_data",
          "data": {
            "image/png": "[encoded data removed]",
            "text/plain": [
              "<Figure size 432x288 with 1 Axes>"
            ]
          },
          "metadata": {
            "tags": [],
            "needs_background": "light"
          }
        }
      ]
    },
    {
      "cell_type": "code",
      "metadata": {
        "colab": {
          "base_uri": "https://localhost:8080/"
        },
        "id": "oSydOj_gYwXO",
        "outputId": "229733cb-d06e-4483-bebe-882ca85779ff"
      },
      "source": [
        "x_binarised_train=x_train.apply(pd.cut,bins=2,labels=[1,0])\n",
        "print(x_binarised_train)"
      ],
      "execution_count": 145,
      "outputs": [
        {
          "output_type": "stream",
          "text": [
            "    mean radius mean texture  ... worst symmetry worst fractal dimension\n",
            "430           1            1  ...              1                       1\n",
            "48            1            1  ...              1                       1\n",
            "105           1            1  ...              1                       0\n",
            "467           1            1  ...              1                       1\n",
            "547           1            1  ...              1                       1\n",
            "..          ...          ...  ...            ...                     ...\n",
            "201           1            1  ...              1                       1\n",
            "183           1            1  ...              1                       1\n",
            "285           1            1  ...              1                       1\n",
            "49            1            1  ...              1                       1\n",
            "161           0            1  ...              1                       1\n",
            "\n",
            "[512 rows x 30 columns]\n"
          ],
          "name": "stdout"
        }
      ]
    },
    {
      "cell_type": "code",
      "metadata": {
        "colab": {
          "base_uri": "https://localhost:8080/"
        },
        "id": "-PUt58x3ac02",
        "outputId": "33355ae9-f8f8-4f65-e942-030a8b0ea205"
      },
      "source": [
        "x_binarised_test=x_test.apply(pd.cut,bins=2,labels=[1,0])\n",
        "type(x_binarised_test)\n"
      ],
      "execution_count": 146,
      "outputs": [
        {
          "output_type": "execute_result",
          "data": {
            "text/plain": [
              "pandas.core.frame.DataFrame"
            ]
          },
          "metadata": {
            "tags": []
          },
          "execution_count": 146
        }
      ]
    },
    {
      "cell_type": "markdown",
      "metadata": {
        "id": "mNdv5DyeawS8"
      },
      "source": [
        "now the type is in dataframe we should convert them to ndarray type"
      ]
    },
    {
      "cell_type": "code",
      "metadata": {
        "colab": {
          "base_uri": "https://localhost:8080/"
        },
        "id": "ZtaCz5WubOhF",
        "outputId": "9fea85a3-94fc-4e85-837c-dca7e404d2db"
      },
      "source": [
        "x_binarised_train=x_binarised_train.values\n",
        "x_binarised_test=x_binarised_test.values\n",
        "type(x_binarised_train)\n",
        "print(x_binarised_train)"
      ],
      "execution_count": 147,
      "outputs": [
        {
          "output_type": "stream",
          "text": [
            "[[1 1 1 ... 0 1 1]\n",
            " [1 1 1 ... 1 1 1]\n",
            " [1 1 1 ... 0 1 0]\n",
            " ...\n",
            " [1 1 1 ... 1 1 1]\n",
            " [1 1 1 ... 1 1 1]\n",
            " [0 1 0 ... 0 1 1]]\n"
          ],
          "name": "stdout"
        }
      ]
    },
    {
      "cell_type": "markdown",
      "metadata": {
        "id": "Jx3N5FChe_Ix"
      },
      "source": [
        "#mpnueron model"
      ]
    },
    {
      "cell_type": "code",
      "metadata": {
        "id": "kkLcCj9lkMVX"
      },
      "source": [
        "from random import randint"
      ],
      "execution_count": 148,
      "outputs": []
    },
    {
      "cell_type": "code",
      "metadata": {
        "colab": {
          "base_uri": "https://localhost:8080/"
        },
        "id": "RP3JbGr4dEmi",
        "outputId": "0845a267-13a1-4d95-8430-7b80bc98c118"
      },
      "source": [
        "b=3\n",
        "i=randint(0,x_binarised_train.shape[0])\n",
        "print(i)\n",
        "if (np.sum(x_binarised_train[i,:])>=b):\n",
        "  print(\"mpnueron inference is malignant\")\n",
        "else:\n",
        "  print(\"mpnueron inference is benign\")  \n",
        "if (y_train[i]==1):\n",
        "  print(\"real mpnueron inference is malignant\")\n",
        "else:\n",
        "  print(\"real mpnueron inference is benign\")\n",
        "\n",
        "  "
      ],
      "execution_count": 149,
      "outputs": [
        {
          "output_type": "stream",
          "text": [
            "358\n",
            "mpnueron inference is malignant\n",
            "real mpnueron inference is malignant\n"
          ],
          "name": "stdout"
        }
      ]
    },
    {
      "cell_type": "code",
      "metadata": {
        "id": "JXuqKUtNkv25"
      },
      "source": [
        "b=3\n",
        "y_pred_train=[]\n",
        "accurate_rows=0\n",
        "for x,y in zip(x_binarised_train,y_train):\n",
        " pred=np.sum(x)>=b\n",
        " y_pred_train.append(pred)\n",
        " accurate_rows+=(y==pred)\n",
        " "
      ],
      "execution_count": 150,
      "outputs": []
    },
    {
      "cell_type": "code",
      "metadata": {
        "colab": {
          "base_uri": "https://localhost:8080/"
        },
        "id": "CFJokCMQMkDq",
        "outputId": "e891f342-17e6-467f-b6e3-2826894f7a40"
      },
      "source": [
        "for b in range(x_binarised_train.shape[1]+1):\n",
        " y_pred_train=[]\n",
        " accurate_rows=0\n",
        " for x,y in zip(x_binarised_train,y_train):\n",
        "  pred=(np.sum(x)>=b)\n",
        "  y_pred_train.append(pred)\n",
        "  accurate_rows+=(y==pred)\n",
        " print(b,accurate_rows,accurate_rows/x_binarised_train.shape[0])  \n"
      ],
      "execution_count": 151,
      "outputs": [
        {
          "output_type": "stream",
          "text": [
            "0 321 0.626953125\n",
            "1 321 0.626953125\n",
            "2 321 0.626953125\n",
            "3 321 0.626953125\n",
            "4 321 0.626953125\n",
            "5 321 0.626953125\n",
            "6 321 0.626953125\n",
            "7 321 0.626953125\n",
            "8 321 0.626953125\n",
            "9 321 0.626953125\n",
            "10 321 0.626953125\n",
            "11 321 0.626953125\n",
            "12 321 0.626953125\n",
            "13 321 0.626953125\n",
            "14 323 0.630859375\n",
            "15 324 0.6328125\n",
            "16 329 0.642578125\n",
            "17 332 0.6484375\n",
            "18 336 0.65625\n",
            "19 340 0.6640625\n",
            "20 344 0.671875\n",
            "21 352 0.6875\n",
            "22 359 0.701171875\n",
            "23 371 0.724609375\n",
            "24 387 0.755859375\n",
            "25 402 0.78515625\n",
            "26 419 0.818359375\n",
            "27 433 0.845703125\n",
            "28 435 0.849609375\n",
            "29 417 0.814453125\n",
            "30 389 0.759765625\n"
          ],
          "name": "stdout"
        }
      ]
    }
  ]
}